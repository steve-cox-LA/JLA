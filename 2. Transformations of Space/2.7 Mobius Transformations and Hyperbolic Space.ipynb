{
 "cells": [
  {
   "cell_type": "markdown",
   "id": "ab6ad863",
   "metadata": {},
   "source": [
    "We make use of the lovely facts that M&ouml;bius transformations \n",
    "\n",
    "(i) are compositions of Inversions, and\n",
    "\n",
    "(ii) take lines and circles to lines and circles\n",
    "\n",
    "together with the simple geometric facts\n",
    "\n",
    "(iii) Each circle in $\\maC$ is the equator of a unique sphere in $\\maR^3$ centered on $\\maC$, and\n",
    "\n",
    "(iv) Each line in $\\maC$ is the intersection of a unique plane in $\\maR^3$ perpendicular to $\\maC$."
   ]
  },
  {
   "cell_type": "code",
   "execution_count": null,
   "id": "56203ff0",
   "metadata": {},
   "outputs": [],
   "source": []
  }
 ],
 "metadata": {
  "kernelspec": {
   "display_name": "Python 3 (ipykernel)",
   "language": "python",
   "name": "python3"
  },
  "language_info": {
   "codemirror_mode": {
    "name": "ipython",
    "version": 3
   },
   "file_extension": ".py",
   "mimetype": "text/x-python",
   "name": "python",
   "nbconvert_exporter": "python",
   "pygments_lexer": "ipython3",
   "version": "3.9.13"
  },
  "latex_envs": {
   "LaTeX_envs_menu_present": true,
   "autoclose": false,
   "autocomplete": true,
   "bibliofile": "biblio.bib",
   "cite_by": "apalike",
   "current_citInitial": 1,
   "eqLabelWithNumbers": true,
   "eqNumInitial": 1,
   "hotkeys": {
    "equation": "Ctrl-E",
    "itemize": "Ctrl-I"
   },
   "labels_anchors": false,
   "latex_user_defs": false,
   "report_style_numbering": false,
   "user_envs_cfg": false
  },
  "toc": {
   "base_numbering": 1,
   "nav_menu": {},
   "number_sections": true,
   "sideBar": true,
   "skip_h1_title": false,
   "title_cell": "Table of Contents",
   "title_sidebar": "Contents",
   "toc_cell": false,
   "toc_position": {},
   "toc_section_display": true,
   "toc_window_display": false
  }
 },
 "nbformat": 4,
 "nbformat_minor": 5
}
