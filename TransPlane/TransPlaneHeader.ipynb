{
 "cells": [
  {
   "cell_type": "markdown",
   "id": "42bc42ad",
   "metadata": {},
   "source": [
    "# 1. Transformations of the Plane\n",
    "\n",
    "- [1.1 Vector Orientation](1.1.VectorOrientation.ipynb)\n",
    "\n",
    "- [1.2 Matrix Vector Multiplication](1.2.MatrixVectorMultiplication.ipynb)\n",
    "\n",
    "- [1.3 Matrix Matrix Multiplication](1.3.MatrixMatrixMultiplication.ipynb)\n",
    "\n",
    "- [1.4 Kinematics](1.4.Kinematics.ipynb)\n",
    "\n",
    "- [1.5 The Projective Line](1.5.ProjectiveLine.ipynb)\n",
    "\n",
    "- [1.6 The Complex Plane](1.6.ComplexPlane.ipynb)\n",
    "\n",
    "- [1.7 M&ouml;bius Transformations](1.7.MobiusTransformations.ipynb)"
   ]
  },
  {
   "cell_type": "code",
   "execution_count": null,
   "id": "503bf05d",
   "metadata": {},
   "outputs": [],
   "source": []
  }
 ],
 "metadata": {
  "kernelspec": {
   "display_name": "Python 3",
   "language": "python",
   "name": "python3"
  },
  "language_info": {
   "codemirror_mode": {
    "name": "ipython",
    "version": 3
   },
   "file_extension": ".py",
   "mimetype": "text/x-python",
   "name": "python",
   "nbconvert_exporter": "python",
   "pygments_lexer": "ipython3",
   "version": "3.8.3"
  },
  "latex_envs": {
   "LaTeX_envs_menu_present": true,
   "autoclose": false,
   "autocomplete": false,
   "bibliofile": "",
   "cite_by": "apalike",
   "current_citInitial": 1,
   "eqLabelWithNumbers": true,
   "eqNumInitial": 1,
   "hotkeys": {
    "equation": "Ctrl-E",
    "itemize": "Ctrl-I"
   },
   "labels_anchors": false,
   "latex_user_defs": true,
   "report_style_numbering": true,
   "user_envs_cfg": true
  },
  "toc": {
   "base_numbering": 1,
   "nav_menu": {},
   "number_sections": true,
   "sideBar": true,
   "skip_h1_title": true,
   "title_cell": "Table of Contents",
   "title_sidebar": "Contents",
   "toc_cell": false,
   "toc_position": {},
   "toc_section_display": true,
   "toc_window_display": false
  }
 },
 "nbformat": 4,
 "nbformat_minor": 5
}
