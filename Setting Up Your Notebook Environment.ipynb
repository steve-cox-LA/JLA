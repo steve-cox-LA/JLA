{
 "cells": [
  {
   "cell_type": "markdown",
   "id": "6cd658b9",
   "metadata": {},
   "source": [
    "**Setting Up Your Notebook Environment**\n",
    "\n",
    "You may open and read each notebook, like this one, in your browser, once pointed to the GitHub JLA repository. The notebook however will be static, not interactive, and much of its formatting will be askew.\n",
    "\n",
    "To make them interactive you must follow these steps\n",
    "\n",
    "1. Download and install [Anaconda](https://www.anaconda.com/products/individual). Chapter 1 of [Problem Solving in Python](https://problemsolvingwithpython.com/) steps you through the process.\n",
    "\n",
    "2. From the JLA repository click on the green code icon and download zip. Unpack your zip file into a folder in your “home” folder. In my case, on a Windows machine, that is C:\\Users\\steve.cox\\JLA\n",
    "\n",
    "3. From the start menu open an Anaconda Prompt (Command terminal) and type **jupyter notebook** at the prompt. This will open a tab on your browser and show you the contents of your home folder. Please click into the JLA folder and from there into the Transformations of Planes folder and then, finally, into its 1.1 Vector Orientation notebook.\n",
    "\n",
    "You will notice that figures and exercises are not properly indexed and that a number of LaTeX macros are unrecognized. To address these formatting issues\n",
    "\n",
    "4. To address these formatting issues please install [nbextensions](https://jupyter-contrib-nbextensions.readthedocs.io/en/latest/install.html) and then enable a few of them.\n",
    "\n",
    "5. Next, from your JLA folder you must copy the files      **user_envs.json**      and     **latex_envs.css**   into this folder   C:\\Users\\YourName\\AppData\\Roaming\\jupyter\\nbextensions\\latex_envs    Using File Explorer make sure that under the View Tab you check the “Hidden Files” box.\n",
    "\n",
    "6. Finally, we must select the options that we need, as in the screenshot below.\n",
    "\n",
    "\n"
   ]
  },
  {
   "cell_type": "code",
   "execution_count": null,
   "id": "3feaf9a3",
   "metadata": {},
   "outputs": [],
   "source": []
  }
 ],
 "metadata": {
  "kernelspec": {
   "display_name": "Python 3 (ipykernel)",
   "language": "python",
   "name": "python3"
  },
  "language_info": {
   "codemirror_mode": {
    "name": "ipython",
    "version": 3
   },
   "file_extension": ".py",
   "mimetype": "text/x-python",
   "name": "python",
   "nbconvert_exporter": "python",
   "pygments_lexer": "ipython3",
   "version": "3.9.13"
  },
  "latex_envs": {
   "LaTeX_envs_menu_present": true,
   "autoclose": false,
   "autocomplete": true,
   "bibliofile": "biblio.bib",
   "cite_by": "apalike",
   "current_citInitial": 1,
   "eqLabelWithNumbers": true,
   "eqNumInitial": 1,
   "hotkeys": {
    "equation": "Ctrl-E",
    "itemize": "Ctrl-I"
   },
   "labels_anchors": false,
   "latex_user_defs": false,
   "report_style_numbering": false,
   "user_envs_cfg": false
  },
  "toc": {
   "base_numbering": 1,
   "nav_menu": {},
   "number_sections": true,
   "sideBar": true,
   "skip_h1_title": false,
   "title_cell": "Table of Contents",
   "title_sidebar": "Contents",
   "toc_cell": false,
   "toc_position": {},
   "toc_section_display": true,
   "toc_window_display": false
  }
 },
 "nbformat": 4,
 "nbformat_minor": 5
}
