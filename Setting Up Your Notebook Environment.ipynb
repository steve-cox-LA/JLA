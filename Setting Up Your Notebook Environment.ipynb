{
 "cells": [
  {
   "cell_type": "markdown",
   "id": "ace28581",
   "metadata": {},
   "source": [
    "**Setting Up Your Notebook Environment**\n",
    "\n",
    "You may view each notebook, like this one, in your browser, at this GitHub JLA repository. The notebook however will be static, not interactive, and much of its formatting will be askew.\n",
    "\n",
    "To make them interactive you must follow these steps\n",
    "\n",
    "1. From the opening page of this repository click on the green code icon and select **Download ZIP**. Unpack your zip file into a folder called **JLA** within your home folder. In my case, on a Windows machine, that is C:\\Users\\steve.cox\\JLA\n",
    "\n",
    "\n",
    "2. Download and install [Anaconda](https://www.anaconda.com/products/individual). Chapter 1 of [Problem Solving in Python](https://problemsolvingwithpython.com/) steps you through the process.\n",
    "\n",
    "\n",
    "3. Open the Anaconda Navigator, locate the Jupyter Notebook cell, click on its gear symbol, and follow the install specific version menu and select **6.4.12**. Anaconda will prompt you to create a new environment. Accept its suggestion and name your environment **JLA** to match the name of our repository.\n",
    "\n",
    "\n",
    "4. At the top left of your Anaconda Navigator window click on Environments then click on JLA and wait for your new environment to load. Now click the arrow and choose Open Terminal.\n",
    "\n",
    "\n",
    "5. You should now see a black cmd terminal with (JLA) to the left of the prompt. From here we will install particular versions of the necessary packages - typing y(es) when queried by entering these lines (one at a time) at the command prompt\n",
    "<pre><b>\n",
    "conda install IPython==7.31.1\n",
    "conda install ipykernel==6.15.2\n",
    "conda install ipywidgets==7.6.5\n",
    "conda install traitlets==5.7.1\n",
    "conda install ipympl==0.9.3    \n",
    "conda install matplotlib==3.5.2      \n",
    "conda install tornado==6.1 \n",
    "conda install -c conda-forge jupyter_contrib_nbextensions\n",
    "</b></pre>\n",
    "\n",
    "\n",
    "\n",
    "6. Next we need to add some LaTeX environments to these nb extensions. As above, from the JLA command prompt, enter these lines one at a time\n",
    "<pre><b>\n",
    "pip install jupyter_latex_envs\n",
    "jupyter nbextension install --py --user latex_envs\n",
    "jupyter nbextension enable --py --user latex_envs \n",
    "</b></pre>\n",
    "\n",
    "\n",
    "7. Our final step is perhaps the most delicate, for we must move two files from our JLA folder into the place where nbextensions can find them. From your JLA folder you must copy the files      **user_envs.json**      and     **latex_envs.css**   into this folder   **C:\\Users\\YourName\\AppData\\Roaming\\jupyter\\nbextensions\\latex_envs**.     Using File Explorer make sure that under the View Tab you check the “Hidden Files” box. \n",
    "\n",
    "\n",
    "\n",
    "8. Finally, back to your JLA Anaconda terminal, type **jupyter notebook** at the prompt. This will open a tab on your browser and show you the contents of your home folder. We must select the nbextensions that we need, as in the screenshot below.\n",
    "Please click into the JLA folder and from there into the Transformations of Planes folder and then, finally, into its 1.1 Vector Orientation notebook. \n",
    "\n",
    "\n",
    "9. Consider the latex toolbar\n",
    "\n",
    "\n"
   ]
  },
  {
   "cell_type": "code",
   "execution_count": null,
   "id": "eb4461f5",
   "metadata": {},
   "outputs": [],
   "source": []
  }
 ],
 "metadata": {
  "kernelspec": {
   "display_name": "Python 3 (ipykernel)",
   "language": "python",
   "name": "python3"
  },
  "language_info": {
   "codemirror_mode": {
    "name": "ipython",
    "version": 3
   },
   "file_extension": ".py",
   "mimetype": "text/x-python",
   "name": "python",
   "nbconvert_exporter": "python",
   "pygments_lexer": "ipython3",
   "version": "3.10.14"
  },
  "latex_envs": {
   "LaTeX_envs_menu_present": true,
   "autoclose": false,
   "autocomplete": true,
   "bibliofile": "biblio.bib",
   "cite_by": "apalike",
   "current_citInitial": 1,
   "eqLabelWithNumbers": true,
   "eqNumInitial": 1,
   "hotkeys": {
    "equation": "Ctrl-E",
    "itemize": "Ctrl-I"
   },
   "labels_anchors": false,
   "latex_user_defs": false,
   "report_style_numbering": false,
   "user_envs_cfg": false
  },
  "toc": {
   "base_numbering": 1,
   "nav_menu": {},
   "number_sections": true,
   "sideBar": true,
   "skip_h1_title": false,
   "title_cell": "Table of Contents",
   "title_sidebar": "Contents",
   "toc_cell": false,
   "toc_position": {},
   "toc_section_display": true,
   "toc_window_display": false
  }
 },
 "nbformat": 4,
 "nbformat_minor": 5
}
