{
 "cells": [
  {
   "cell_type": "markdown",
   "metadata": {},
   "source": [
    "# 1.1 Vector Orientation\n",
    "\n",
    "In our common phrase \"x-y-plane\" lies the convention that points are specified as ordered pairs $(x,y)$ with $x$ denoting its horizontal component and $y$ its vertical component. We rephrase this convention in terms of the **vectors** that point\n",
    "along the $x$ and $y$ axes, i.e.,\n",
    "\n",
    "\\begin{equation} \\label{eq:exy}\n",
    "  e_x = \\begin{bmatrix}1 \\\\ 0\\end{bmatrix} \\and e_y = \\begin{bmatrix}0 \\\\ 1\\end{bmatrix}\n",
    "\\end{equation}\n",
    "\n",
    "respectively. We illustrate these vectors in Figure \\ref{fig:orient} together with the combination\n",
    "\n",
    "\\begin{equation}\\label{eq:firstu}\n",
    " u = \\begin{bmatrix} 0.5 \\\\ 1.5 \\end{bmatrix}  = \\begin{bmatrix} 0.5 \\\\ 0 \\end{bmatrix} + \\begin{bmatrix} 0 \\\\ 1.5 \\end{bmatrix} = 0.5e_x + 1.5e_y\n",
    "\\end{equation}\n",
    "\n",
    "This sequence also serves as a first demonstration of both vector addition and scalar multiplication."
   ]
  },
  {
   "cell_type": "code",
   "execution_count": 1,
   "metadata": {
    "code_folding": [
     0
    ]
   },
   "outputs": [
    {
     "data": {
      "image/png": "[encoded data removed]",
      "text/plain": [
       "<Figure size 300x300 with 1 Axes>"
      ]
     },
     "metadata": {},
     "output_type": "display_data"
    }
   ],
   "source": [
    "# Draw and label three vectors and an angle\n",
    "%matplotlib inline          \n",
    "import matplotlib.pyplot as plt     # the standard plot library (click on Help in the header to learn more)\n",
    "\n",
    "plt.figure(figsize=(3,3))\n",
    "plt.arrow(0,0,1,0,width=0.02,length_includes_head=True, color='b')\n",
    "plt.text(1.05,0,'$e_x$',fontsize=14)\n",
    "plt.text(0.2,0.1,'$\\\\theta_u$',fontsize=14)\n",
    "plt.arrow(0,0,0,1,width=0.02,length_includes_head=True, color = 'b')\n",
    "plt.text(0,1.05,'$e_y$',fontsize=14)\n",
    "plt.arrow(0,0,0.5,1.5,width=0.02,length_includes_head=True, color='r')\n",
    "plt.text(0.55,1.4,'$u$',fontsize=14)\n",
    "\n",
    "plt.grid('on')\n",
    "plt.axis('equal')\n",
    "plt.axis([-.5, 2, -.5, 2]);"
   ]
  },
  {
   "cell_type": "markdown",
   "metadata": {},
   "source": [
    "\\begin{myfig}\\label{fig:orient} The pair of blue unit-vectors, $\\{e_x, e_y\\}$ from (\\ref{eq:exy}), specify our **orientation** in the sense that the second is **counterclockwise** from the first. Also any other vector in the plane may be written as a weighted sum of $e_x$ and $e_y$. For example, we graph the red $u$ vector of (\\ref{eq:firstu}). \\end{myfig}"
   ]
  },
  {
   "cell_type": "markdown",
   "metadata": {},
   "source": [
    "Further examples of vector addition and scalar multiplication are\n",
    "\n",
    "\\begin{equation*}\n",
    "  \\begin{bmatrix} 1 \\\\ 3\\end{bmatrix} + \\begin{bmatrix} 4 \\\\ 1\\end{bmatrix}\n",
    "  = \\begin{bmatrix} 5 \\\\ 4\\end{bmatrix} \\and\n",
    "  6\\begin{bmatrix} 4 \\\\ 2\\end{bmatrix} = \\begin{bmatrix} 24 \\\\ 12\\end{bmatrix}.\n",
    "\\end{equation*}\n",
    "\n",
    "We will also make frequent use of the **polar** representation of points in the plane. Regarding the $u$ in Figure \\ref{fig:orient} we write\n",
    "\n",
    "\\begin{equation}\\label{eq:upol}\n",
    "  u = \\begin{bmatrix} 0.5 \\\\ 1.5 \\end{bmatrix} = \\|u\\|\\begin{bmatrix} \\cos(\\theta_u) \\\\ \\sin(\\theta_u) \\end{bmatrix}\n",
    "\\end{equation}\n",
    "\n",
    "where $\\theta_u$ is the counterclockwise angle that $u$ makes with $e_x$, and $\\|u\\|$ denotes the length, or **norm**, of $u$ in the pythagorean sense\n",
    "\n",
    "\\begin{equation}\\label{eq:normdef}\n",
    "  \\|u\\| \\equiv \\sqrt{u[0]^2 + u[1]^2} = \\sqrt{10}/2\n",
    "\\end{equation}\n",
    "\n",
    "where $u[0]$ and $u[1]$ are respectively the first and second elements of $u$.\n",
    "\n",
    "The most common product of two vectors, $u$ and $v$, in the plane is the\n",
    "**inner product**. It is the sum of their elementwise products\n",
    "\n",
    "\\begin{equation} \\label{eq:ipdef}\n",
    "  u^T v \\equiv \\begin{bmatrix} u[0] & u[1] \\end{bmatrix}\n",
    "    \\begin{bmatrix} v[0] \\\\ v[1] \\end{bmatrix} = u[0]v[0] + u[1]v[1].  \n",
    "\\end{equation}\n",
    "\n",
    "As $u[j]v[j]=v[j]u[j]$ for each $j$ it follows that $u^Tv=v^Tu$. For example,\n",
    "\n",
    "\\begin{equation*}\n",
    " \\begin{bmatrix}10 & 2 \\end{bmatrix}\n",
    "              \\begin{bmatrix} -3 \\\\ 5\\end{bmatrix}\n",
    "       = 10\\cdot (-3) + 2\\cdot 5  = -20.\n",
    "\\end{equation*}\n",
    "\n",
    "So, the inner product of two vectors is a number. The superscript $T$ on the $u$\n",
    "on the far left of (\\ref{eq:ipdef}) stands for **transpose** and, \n",
    "when applied to \n",
    "a column yields a **row**. Columns are vertical and rows are horizontal and so\n",
    "we see, in (\\ref{eq:ipdef}), that $u^T$ is $u$ laid on its side. \n",
    "\n",
    "As, $u^Tu=u[0]^2+u[1]^2$, we recognize that the norm of a vector is the square root of its inner product with itself, i.e.,\n",
    "\n",
    "\\begin{equation} \\label{eq:normdef2}\n",
    "  \\|u\\| = (u^Tu)^{1/2} = \\left(x[0]^2+x[1]^2\\right)^{1/2}. \n",
    "\\end{equation}\n",
    "\n",
    "Let's compute the inner product of the two vectors illustrated in Figure \\ref{fig:mf1}."
   ]
  },
  {
   "cell_type": "markdown",
   "metadata": {},
   "source": [
    "We write them in their Cartesian and polar forms\n",
    "\n",
    "\\begin{equation*}\n",
    "  u = \\begin{bmatrix}u[0] \\\\ u[1]\\end{bmatrix} =\\begin{bmatrix}1 \\\\ 3\\end{bmatrix} = \\|u\\|\\begin{bmatrix} \\cos(\\theta_u) \\\\ \\sin(\\theta_u) \\end{bmatrix}\n",
    "  \\and\n",
    "  v = \\begin{bmatrix}v[0] \\\\ v[1]\\end{bmatrix} =\\begin{bmatrix}4 \\\\ 1\\end{bmatrix} = \\|v\\|\\begin{bmatrix} \\cos(\\theta_v) \\\\ \\sin(\\theta_v) \\end{bmatrix}\n",
    "\\end{equation*}\n",
    "\n",
    "and on substitutution into (\\ref{eq:ipdef}) find\n",
    "\n",
    "\\begin{equation}\n",
    "  \\eqalign{\n",
    "  u^Tv &= u[0]v[0] + u[1]v[1] \\cr\n",
    "  &= \\|u\\|\\|v\\|(\\cos(\\theta_u)\\cos(\\theta_v)+ \\sin(\\theta_u)\\sin(\\theta_v)) \\cr\n",
    "  &= \\|u\\|\\|v\\|\\cos(\\theta_u-\\theta_v) \\cr\n",
    "  &= \\|u\\|\\|v\\|\\cos(\\theta). \\cr} \\label{eq:cauchyexact}\n",
    "\\end{equation}\n",
    "\n",
    "where $\\theta=\\theta_u-\\theta_v$.\n",
    "We interpret (\\ref{eq:cauchyexact}) by saying that the inner product of two vectors is\n",
    "proportional to the cosine of the angle between them. When this angle is $\\pi/2$ we say that the two vectors\n",
    "are **perpendicular** to one another.\n",
    "\n",
    "On taking the absolute value of each side of\n",
    "(\\ref{eq:cauchyexact}) we arrive at the **Cauchy-Schwarz inequality**\n",
    "\n",
    "\\begin{equation}\n",
    "  \\boxed{|u^Tv| \\le \\|u\\|\\|v\\|.} \\label{eq:cauchyschwarz}\n",
    "\\end{equation}"
   ]
  },
  {
   "cell_type": "code",
   "execution_count": 2,
   "metadata": {
    "caption": "The dot product",
    "code_folding": [
     0
    ],
    "label": "fig:DotProduct",
    "widefigure": true
   },
   "outputs": [
    {
     "data": {
      "image/png": "[encoded data removed]",
      "text/plain": [
       "<Figure size 300x300 with 1 Axes>"
      ]
     },
     "metadata": {},
     "output_type": "display_data"
    }
   ],
   "source": [
    "# Draw and label two vectors\n",
    "%matplotlib inline\n",
    "import matplotlib.pyplot as plt\n",
    "\n",
    "plt.figure(figsize=(3,3))\n",
    "plt.arrow(0,0,4,1,width=0.02,length_includes_head=True)\n",
    "plt.text(4.1,1,'v',fontsize=14)\n",
    "plt.arrow(0,0,1,3,width=0.02,length_includes_head=True)\n",
    "plt.text(1.1,3,'u',fontsize=14)\n",
    "plt.text(0.25,0.25,'$\\\\theta$',fontsize=14)\n",
    "plt.grid('on')\n",
    "plt.axis([0, 4.5, 0, 3.5]);"
   ]
  },
  {
   "cell_type": "markdown",
   "metadata": {},
   "source": [
    "\\begin{myfig}\\label{fig:mf1} The angle between two vectors. \\end{myfig}"
   ]
  },
  {
   "cell_type": "markdown",
   "metadata": {},
   "source": [
    "\\begin{exercise}\\label{ex:arithmetic} Given\n",
    "\n",
    "\\begin{equation*}\n",
    "  x = \\begin{bmatrix} 2 \\\\ 1 \\end{bmatrix} \\and y = \\begin{bmatrix} 3 \\\\ 4 \\end{bmatrix}\n",
    "\\end{equation*}\n",
    "\n",
    "complete the code cell below to compute and display **(a)** $x+y$, **(b)** $\\|x\\|$,\n",
    "**(c)** $\\|y\\|$,\n",
    "**(d)** $x^Ty$, and \n",
    "**(e)** the angle between $x$ and $y$. \\end{exercise}"
   ]
  },
  {
   "cell_type": "code",
   "execution_count": 3,
   "metadata": {},
   "outputs": [
    {
     "name": "stdout",
     "output_type": "stream",
     "text": [
      "x + y is  [5 5]\n",
      "norm of x is  2.236\n",
      " x^Ty is  10\n"
     ]
    }
   ],
   "source": [
    "# vector and print operations in python\n",
    "import numpy as np      # import the library of numerical functions (click Help in our header to get help with numpy)\n",
    "\n",
    "x = np.array([2,1])    # vectors are called arrays in python\n",
    "y = np.array([3,4])\n",
    "print('x + y is ', x+y)\n",
    "normx = np.sqrt(x[0]**2+x[1]**2)    # to take powers we use ** in python\n",
    "print('norm of x is ', round(normx,3))\n",
    "# normy = \n",
    "#print('norm of y is ', normy)\n",
    "ip = np.dot(x, y)    # the inner product is also known as the dot product\n",
    "print(' x^Ty is ', ip )\n",
    "#angle =    # use np.arccos and equation 7\n",
    "# print( ' angle between x and y is ', angle)"
   ]
  },
  {
   "cell_type": "markdown",
   "metadata": {},
   "source": [
    "\\begin{exercise}\\label{ex:orth2} Find a vector perpendicular to $[1,1]^T$. Use the code cell below to compute and display their inner product.\n",
    "\\end{exercise}"
   ]
  },
  {
   "cell_type": "code",
   "execution_count": 4,
   "metadata": {},
   "outputs": [],
   "source": [
    "# Your solution here\n",
    "import numpy as np"
   ]
  },
  {
   "cell_type": "markdown",
   "metadata": {},
   "source": [
    "We next explore the geometry of the sum of two vectors\n",
    "\n",
    "\\begin{equation}\\label{eq:uvp}\n",
    " u = \\begin{bmatrix} a \\\\ c \\end{bmatrix} \\and v = \\begin{bmatrix} b \\\\ d \\end{bmatrix}\n",
    "\\end{equation}"
   ]
  },
  {
   "cell_type": "code",
   "execution_count": 5,
   "metadata": {
    "code_folding": [],
    "scrolled": false
   },
   "outputs": [
    {
     "data": {
      "image/png": "[encoded data removed]",
      "text/plain": [
       "<Figure size 640x480 with 2 Axes>"
      ]
     },
     "metadata": {},
     "output_type": "display_data"
    }
   ],
   "source": [
    "# vector addition as a parallelogram \n",
    "%matplotlib inline\n",
    "import numpy as np\n",
    "import matplotlib.pyplot as plt\n",
    "\n",
    "fig, (ax1, ax2) = plt.subplots(1, 2)\n",
    "plt.subplots_adjust(right=2, top=1, wspace=0.25)\n",
    "\n",
    "a = 1.75\n",
    "b = 0.3\n",
    "c = 0.5\n",
    "d = 1.5\n",
    "\n",
    "ax1.fill([0, a+b, a, 0], [0, 0, c, 0], 'b', alpha = 0.5)\n",
    "ax1.fill([a, a+b, a+b, a], [c, 0, c+d, c], 'r', alpha = 0.5)\n",
    "ax1.fill([0, b, a+b, 0], [c+d, d, c+d, c+d], 'g', alpha = 0.5)\n",
    "ax1.fill([0, b, 0, 0], [0, d, c+d, 0], 'y', alpha = 0.5)\n",
    "\n",
    "ax1.text(0-.1, 0-.1, '(0,0)', fontsize=12)\n",
    "ax1.text(a,c,'(a,c)', fontsize=12)\n",
    "ax1.text(a+b,c+d,'(a+b,c+d)', fontsize=12)\n",
    "ax1.text(b-.2,d,'(b,d)', fontsize=12)\n",
    "\n",
    "ax1.axis('equal')\n",
    "ax1.axis('off')\n",
    "\n",
    "ax2.plot([0,a, a+b, b, 0],[0,c,c+d,d,0])\n",
    "# find height\n",
    "u = np.array([a,c])\n",
    "v = np.array([b,d])\n",
    "pv = np.dot(u,v)*u/np.dot(u,u)\n",
    "ax2.plot([pv[0], v[0]], [pv[1], v[1]])\n",
    "ax2.text(0.15,0.2,'$\\\\theta$', fontsize=12)\n",
    "ax2.text(a+0.1,c,'$u$', fontsize=12)\n",
    "ax2.text(b,d+0.1,'$v$', fontsize=12)\n",
    "ax2.text(a+b,c+d+0.1,'$u+v$', fontsize=12)\n",
    "ax2.text(0.55,0.8,'$h$', fontsize=12)\n",
    "\n",
    "ax2.axis('equal')\n",
    "ax2.axis('off');"
   ]
  },
  {
   "cell_type": "markdown",
   "metadata": {},
   "source": [
    "<a name=\"mf2\"></a>\n",
    "\\begin{myfig}\\label{fig:mf2} The parallelogram associated with the sum the two vectors in (\\ref{eq:uvp}). Each figure sets the stage for computing the area of the parallelogram. On the left we label the coordinates and see the parallelogram as the complement of 4 triangles within a rectangle. On the right we stress its angle and height.\\end{myfig}"
   ]
  },
  {
   "cell_type": "markdown",
   "metadata": {},
   "source": [
    "\\begin{exercise}\\label{ex:parallelogram} We compute the area of the parallelogram in Figure \\ref{fig:mf2} by two distict means.\n",
    "\n",
    "(a) Using the left panel, subtract the 4 triangle areas from the area of large rectangle. \n",
    "\n",
    "(b) Using the right panel, use area = base times height = $\\Vert u\\Vert\\Vert v\\Vert\\sin(\\theta)$. \n",
    "\n",
    "(c) Reconcile these two formulas using the fact that $\\theta=\\theta_v-\\theta_u$. \\end{exercise}"
   ]
  },
  {
   "cell_type": "markdown",
   "metadata": {},
   "source": [
    "Your solution here."
   ]
  },
  {
   "cell_type": "markdown",
   "metadata": {},
   "source": [
    "\\begin{exercise}\\label{ex:polarization} Please complete the markdown cell below and arrive at the **polarization formula** \n",
    "\n",
    "\\begin{equation}\n",
    "  \\|x+y\\|^2-\\|x-y\\|^2 = 4x^Ty,\n",
    "\\end{equation}\n",
    "\n",
    "holds for all $x$ and $y$ in $\\maR^2$.\n",
    "\\end{exercise}"
   ]
  },
  {
   "cell_type": "markdown",
   "metadata": {},
   "source": [
    "Your solution here.\n",
    "\n",
    "\\begin{equation}\n",
    "  \\eqalign{ \\|x+y\\|^2-\\|x-y\\|^2 &= (x+y)^T(x+y) - (x-y)^T(x-y) \\\\\n",
    "                                &= (x^T+y^T)(x+y) - (x^T-y^T)(x-y) \\\\\n",
    "                                &= \\hbox{now FOIL both products and simplify} }\n",
    "\\end{equation}"
   ]
  },
  {
   "cell_type": "markdown",
   "metadata": {},
   "source": [
    "\\begin{exercise}\\label{ex:triangineq} Show that the **triangle inequality**\n",
    "\n",
    "\\begin{equation}\n",
    "  \\|x+y\\| \\le \\|x\\| + \\|y\\| \n",
    "\\end{equation}\n",
    "\n",
    "holds for all $x$ and $y$ in $\\maR^2$.\n",
    "First sketch this for two concrete planar $x$ and $y$ and expound on the aptness\n",
    "of the name. Then, in the markdown cell below, expand\n",
    "$\\|x+y\\|^2$, invoke the Cauchy-Schwarz inequality, (\\ref{eq:cauchyschwarz}),\n",
    "and finish with a square root.\n",
    "\\end{exercise}"
   ]
  },
  {
   "cell_type": "markdown",
   "metadata": {},
   "source": [
    "Your solution here."
   ]
  },
  {
   "cell_type": "markdown",
   "metadata": {},
   "source": [
    "Next Section: [1.2 Matrix Vector Multiplication](1.2.MatrixVectorMultiplication.ipynb)"
   ]
  }
 ],
 "metadata": {
  "author": "Linear Algebra, A Field Guide",
  "kernelspec": {
   "display_name": "Python 3 (ipykernel)",
   "language": "python",
   "name": "python3"
  },
  "language_info": {
   "codemirror_mode": {
    "name": "ipython",
    "version": 3
   },
   "file_extension": ".py",
   "mimetype": "text/x-python",
   "name": "python",
   "nbconvert_exporter": "python",
   "pygments_lexer": "ipython3",
   "version": "3.9.13"
  },
  "latex_envs": {
   "LaTeX_envs_menu_present": true,
   "autoclose": false,
   "autocomplete": false,
   "bibliofile": "biblio.bib",
   "cite_by": "apalike",
   "current_citInitial": 1,
   "eqLabelWithNumbers": true,
   "eqNumInitial": 1,
   "hotkeys": {
    "equation": "Ctrl-E",
    "itemize": "Ctrl-I"
   },
   "labels_anchors": false,
   "latex_user_defs": true,
   "report_style_numbering": false,
   "user_envs_cfg": true
  },
  "toc": {
   "base_numbering": "1.1",
   "nav_menu": {
    "height": "84.9833px",
    "width": "166.383px"
   },
   "number_sections": true,
   "sideBar": true,
   "skip_h1_title": true,
   "title_cell": "Orientation",
   "title_sidebar": "Contents",
   "toc_cell": false,
   "toc_position": {
    "height": "196px",
    "left": "10px",
    "top": "150px",
    "width": "202.409px"
   },
   "toc_section_display": true,
   "toc_window_display": false
  }
 },
 "nbformat": 4,
 "nbformat_minor": 4
}
