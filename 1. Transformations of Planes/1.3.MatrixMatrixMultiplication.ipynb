{
 "cells": [
  {
   "cell_type": "markdown",
   "metadata": {},
   "source": [
    "## Matrix-Matrix Multiplication\n",
    "\n",
    "We next ask what happens if you follow a dilation with a shear or rotation, or *vice versa.*\n",
    "For example, now that we understand matrix-vector multiplication we can simply multiply the vector $N(\\s)x$ by $A(\\alpha)$;\n",
    "\n",
    "\\begin{equation}\n",
    "  A(\\alpha)N(\\s)x = \\begin{bmatrix} \\alpha & 0 \\\\ 0 & 1/\\alpha \\end{bmatrix} \n",
    "    \\begin{bmatrix} 1 & \\s \\\\ 0 & 1 \\end{bmatrix}\n",
    "    \\begin{bmatrix} x[0] \\\\ x[1] \\end{bmatrix} = \\begin{bmatrix} \\alpha & 0 \\\\ 0 & 1/\\alpha \\end{bmatrix}\n",
    "    \\begin{bmatrix} x[0]+\\s x[1] \\\\ x[1] \\end{bmatrix} =\n",
    "    \\begin{bmatrix} \\alpha (x[0]+\\s x[1]) \\\\ x[1]/\\alpha \\end{bmatrix} =\n",
    "    \\begin{bmatrix} \\alpha & \\alpha\\s \\\\ 0 & 1/\\alpha \\end{bmatrix}\n",
    "    \\begin{bmatrix} x[0] \\\\ x[1] \\end{bmatrix}\n",
    "\\end{equation}\n",
    "\n",
    "from which we deduce that\n",
    "\n",
    "\\begin{equation}\\label{eq:AxN}\n",
    "  A(\\alpha)N(\\s) = \\begin{bmatrix} \\alpha & \\alpha\\s \\\\ 0 & 1/\\alpha \\end{bmatrix}\n",
    "\\end{equation}\n",
    "\n",
    "Similarily, if we reverse the order of our composition\n",
    "\n",
    "\\begin{equation}\n",
    "  N(\\s)A(\\alpha)x = \n",
    "    \\begin{bmatrix} 1 & \\s \\\\ 0 & 1 \\end{bmatrix}\\begin{bmatrix} \\alpha & 0 \\\\ 0 & 1/\\alpha \\end{bmatrix} \n",
    "    \\begin{bmatrix} x[0] \\\\ x[1] \\end{bmatrix} = \\begin{bmatrix} 1 & \\s \\\\ 0 & 1 \\end{bmatrix}\n",
    "    \\begin{bmatrix} \\alpha x[0] \\\\ x[1]/\\alpha \\end{bmatrix} =\n",
    "    \\begin{bmatrix} \\alpha x[0]+\\s x[1]/\\alpha \\\\ x[1]/\\alpha \\end{bmatrix} =\n",
    "    \\begin{bmatrix} \\alpha & \\s/\\alpha \\\\ 0 & 1/\\alpha \\end{bmatrix}\n",
    "    \\begin{bmatrix} x[0] \\\\ x[1] \\end{bmatrix}\n",
    "\\end{equation}\n",
    "\n",
    "from which we deduce that\n",
    "\n",
    "\\begin{equation}\\label{eq:NxA}\n",
    "  N(\\s)A(\\alpha) = \\begin{bmatrix} \\alpha & \\s/\\alpha \\\\ 0 & 1/\\alpha \\end{bmatrix}\n",
    "\\end{equation}\n",
    "\n",
    "These two calculations illustrate the basic rule of **matrix-multiplication**, if $A\\in\\maR^{m,n}$ and $B\\in\\maR^{n,p}$ then their\n",
    "product $C\\in\\maR^{m,p}$ is the collection of inner products of the rows of $A$ and columns of $B$;\n",
    "\n",
    "\\begin{equation}\n",
    "  C[i,j] = A[i,:]B[:,j] = \\sum_{k=0}^{n-1}A[i,k]B[k,j]\n",
    "\\end{equation}"
   ]
  },
  {
   "cell_type": "markdown",
   "metadata": {},
   "source": [
    "\\begin{exercise}\\label{ex:ANKpow}\n",
    "Show that for each postive integer $n$,\n",
    "\n",
    "\\begin{equation}\\label{eq:ANKpow}\n",
    " A(\\alpha)^n = A(\\alpha^n), \\hskip 0.25in \n",
    " N(\\sigma)^n = N(n\\sigma), \\hskip 0.25in\n",
    " K(\\theta)^n = K(n\\theta).\n",
    "\\end{equation}\n",
    "\n",
    "These are clearly true when $n=1$. Try the $n=2$ case as a warm-up to the demonstration, required by the Principle of Mathematical Induction, that their truth at power $n$ implies their truth at power $n+1$.\n",
    "\n",
    "\\end{exercise}"
   ]
  },
  {
   "cell_type": "markdown",
   "metadata": {},
   "source": [
    "We have learned from our first example that matrix multiplication is not commutative. \n",
    "Although $A(\\alpha)N(\\s)\\ne N(\\s)A(\\alpha)$ you may wish to check that\n",
    "\n",
    "\\begin{equation}\\label{eq:ANe}\n",
    "   A(\\alpha)N(\\s) = N(\\alpha^2\\s)A(\\alpha)\n",
    "\\end{equation}"
   ]
  },
  {
   "cell_type": "markdown",
   "metadata": {},
   "source": [
    "\\begin{exercise}\\label{ex:ANA}\n",
    "Please confirm (\\ref{eq:ANe}) and use it to show that\n",
    "\n",
    "\\begin{equation} \n",
    "  N(\\alpha^2\\s) = A(\\alpha)N(\\s)A(1/\\alpha).\n",
    "\\end{equation}\n",
    "\n",
    "This states that wrapping a shear in a dilation and its inverse scales the shear. \n",
    "\\end{exercise}"
   ]
  },
  {
   "cell_type": "markdown",
   "metadata": {},
   "source": [
    "Just as the transpose of a column is a row we find that the transpose of a matrix exchanges its rows and columns. More precisely, the $[i,j]$ element of $A^T$ is the $[j,i]$ element of $A$, i.e.,\n",
    "\n",
    "\\begin{equation}\n",
    "  A^T[i,j] = A[j,i]\n",
    "\\end{equation}\n",
    "\n",
    "We now observe that the transposes of our dilation, shear, and rotations obey\n",
    "\n",
    "\\begin{equation}\n",
    "  A^T(\\alpha) = \\begin{bmatrix} \\alpha & 0 \\\\ 0 & 1/\\alpha \\end{bmatrix} = A(\\alpha), \\hskip 0.25in\n",
    " N^T(\\s) = \\begin{bmatrix} 1 & 0 \\\\ \\s & 1 \\end{bmatrix} \\and\n",
    " K^T(\\theta) = \\begin{bmatrix} \\cos(\\theta) & \\sin(\\theta) \\\\ -\\sin(\\theta) & \\cos(\\theta) \\end{bmatrix} = K(-\\theta) \n",
    "\\end{equation}\n",
    "\n",
    "This states that $A(\\alpha)$ is **symmetric** in the sense that $A(\\alpha)=A^T(\\alpha)$. Where $N(\\s)$ is a **horizontal shear** do you see that $N^T(\\s)$ is a **vertical shear**? The fact that $K^T(\\theta)=K(-\\theta)$ follows from the fact that cosine is even and sine is odd."
   ]
  },
  {
   "cell_type": "markdown",
   "metadata": {},
   "source": [
    "\\begin{exercise} \\label{ex:ANK2} As rotation by $\\theta$ followed by rotation by $-\\theta$ should get you back to where you started it follows that $K(-\\theta)K(\\theta)$ should be an especially simple matrix. Please confirm that\n",
    "\n",
    "\\begin{equation} \n",
    "  K(-\\theta)K(\\theta) = \\begin{bmatrix} 1 & 0 \\\\ 0 & 1 \\end{bmatrix}\n",
    "\\end{equation}\n",
    "\n",
    "We call this end result the **identity matrix** and denote it $I$. \\end{exercise}"
   ]
  },
  {
   "cell_type": "markdown",
   "metadata": {},
   "source": [
    "\\begin{exercise} \\label{ex:ANK3} Please confirm that\n",
    "\n",
    "\\begin{equation} \n",
    "  N(\\s)N(-\\s) = I \\and A(\\alpha)A(1/\\alpha)=I\n",
    "\\end{equation}\n",
    "\n",
    "and **explain** these results in geometric terms. We naturally call $N(-\\s)$ the **inverse** of $N(\\s)$ and $A(1/\\alpha)$ the **inverse** of $A(\\alpha)$. \\end{exercise}"
   ]
  },
  {
   "cell_type": "markdown",
   "metadata": {},
   "source": [
    "\\begin{exercise} \\label{ex:ANK4} Please also show that\n",
    "\n",
    "\\begin{equation} \n",
    "  A(\\alpha)A(\\beta)=A(\\alpha\\beta), \\hskip 0.25in N(\\s)N(\\tau) = N(\\s+\\tau) \\and K(\\theta)K(\\phi)=K(\\theta+\\phi)\n",
    "\\end{equation}\n",
    "\n",
    "\\end{exercise}"
   ]
  },
  {
   "cell_type": "markdown",
   "metadata": {},
   "source": [
    "\\begin{exercise} \\label{ex:ANK5} Show that wrapping a shear in a rotation and its inverse rotates the shear.\n",
    "More precisely, show that\n",
    "\n",
    "\\begin{equation} \n",
    "  \\tilde N(\\s) \\equiv K(\\theta)N(\\s)K(-\\theta)\n",
    "\\end{equation}\n",
    "\n",
    "is a shear at angle $\\theta$. To \"see\" this shear please apply it to the lizard of our previous notebook.\n",
    "\n",
    "\\end{exercise}"
   ]
  },
  {
   "cell_type": "markdown",
   "metadata": {},
   "source": [
    "\\begin{exercise} \\label{ex:Mob1} Let us now show that **every** matrix that preserves area and orientation can be expressed as a **unique** product of a dilation, shear and rotation. Beginning with\n",
    "\n",
    "\\begin{equation*}\n",
    "   M = \\begin{bmatrix} a & b \\\\ c & d \\end{bmatrix}, \\hskip 0.25in  ad-bc =1.\n",
    "\\end{equation*}\n",
    "\n",
    "Let's first dispense with two special cases. Show that if $c=0$ then $ad=1$ so $a\\ne 0$ and $M=N(ab)A(a)$.\n",
    "\n",
    "Next, show that if $d=0$ then $bc=-1$ so $b\\ne 0$ and $M=N(-ab)A(b)K(\\pi/2)$.\n",
    "\n",
    "We may now assume that $cd\\ne 0$. Find the $\\alpha>0$ and $\\theta$ that allow you to achieve the bottom row of $M$ via\n",
    "\n",
    "\\begin{equation*}\n",
    "   \\begin{bmatrix} \\alpha & 0 \\\\ 0 & 1/\\alpha \\end{bmatrix}\\begin{bmatrix} * & * \\\\ \\sin(\\theta) & \\cos(\\theta) \\end{bmatrix} \n",
    "   = \\begin{bmatrix} * & * \\\\ c & d \\end{bmatrix} \n",
    "\\end{equation*}\n",
    "\n",
    "Next find the $\\s$ that allows you to achieve the top row of $M$ without disturbing its bottom row,\n",
    "\n",
    "\\begin{equation*}\n",
    "   \\begin{bmatrix} 1 & \\s \\\\ 0 & 1 \\end{bmatrix}\n",
    "   \\begin{bmatrix} \\alpha & 0 \\\\ 0 & 1/\\alpha \\end{bmatrix}\n",
    "   \\begin{bmatrix} \\cos(\\theta) & -\\sin(\\theta) \\\\ \\sin(\\theta) & \\cos(\\theta) \\end{bmatrix} \n",
    "   = \\begin{bmatrix} a & b \\\\ c & d \\end{bmatrix} \n",
    "\\end{equation*}\n",
    "\n",
    "This last step appears to expect one parameter, $\\s$, to generate both $a$ and $b$. You will reconcile this with $ad-bc=1$.\n",
    "\\end{exercise}"
   ]
  },
  {
   "cell_type": "markdown",
   "metadata": {},
   "source": [
    "\\begin{exercise}\\label{ex:reflmat} Consider the matrix\n",
    "\n",
    "$$\n",
    "  H = \\begin{bmatrix} 0 & -1 \\\\ -1 & 0 \\end{bmatrix}. \\label{refl2}\n",
    "$$\n",
    "\n",
    "Experiment with this $H$ in your widget above and explain why it is called a **reflection.** Across which line does it reflect? Argue, on strictly geometric grounds, why $H^2=I$. To \"see\" this reflection please apply it to the lizard of our previous notebook.\n",
    "\\end{exercise}"
   ]
  },
  {
   "cell_type": "code",
   "execution_count": 1,
   "metadata": {},
   "outputs": [
    {
     "data": {
      "image/png": "[encoded data removed]",
      "text/plain": [
       "<Figure size 640x480 with 1 Axes>"
      ]
     },
     "metadata": {},
     "output_type": "display_data"
    }
   ],
   "source": [
    "# set the context for reflection\n",
    "%matplotlib inline\n",
    "import numpy as np\n",
    "import matplotlib.pyplot as plt \n",
    "\n",
    "theta = np.pi/6\n",
    "plt.plot([-np.cos(theta), np.cos(theta)], [-np.sin(theta), np.sin(theta)], 'k')\n",
    "plt.plot([0, 1], [0, 0], 'k--')\n",
    "plt.text(0.4, 0.1, '$\\\\theta$', fontsize=14)\n",
    "plt.text(np.cos(theta)-.2, np.sin(theta)+.1, '$(\\cos(\\\\theta), \\sin(\\\\theta))$', fontsize=14)\n",
    "plt.plot([0, np.cos(theta+np.pi/2)], [0, np.sin(theta+np.pi/2)], 'r')\n",
    "plt.text(np.cos(theta+np.pi/2)-.2, np.sin(theta+np.pi/2)+.1, '$(\\cos(\\\\theta+\\pi/2), \\sin(\\\\theta+\\pi/2))$', color='r', fontsize=14)\n",
    "plt.plot([0, np.cos(theta-np.pi/2)], [0, np.sin(theta-np.pi/2)], 'b')\n",
    "plt.text(np.cos(theta-np.pi/2)-.2, np.sin(theta-np.pi/2)-.1, '$(\\cos(\\\\theta-\\pi/2), \\sin(\\\\theta-\\pi/2))$', color='b', fontsize=14)\n",
    "\n",
    "plt.axis('equal')\n",
    "plt.axis('off');"
   ]
  },
  {
   "cell_type": "markdown",
   "metadata": {},
   "source": [
    "\\begin{myfig}\\label{fig:GenReflect} The (black) line through the origin that makes the angle $\\theta$ with the positive $x$-axis. The matrix, $H(\\theta)$, that reflects across this black line should take the black vector to itself and exchange the red and blue vectors. \\end{myfig}"
   ]
  },
  {
   "cell_type": "markdown",
   "metadata": {},
   "source": [
    "\\begin{exercise}\\label{ex:GenReflect} To build a reflection, \n",
    "\n",
    "\\begin{equation*}\n",
    "  H(\\theta) = \\begin{bmatrix} a & b \\\\ c & d \\end{bmatrix}\n",
    "\\end{equation*}\n",
    "\n",
    "across the line through the origin of angle $\\theta$ we note, following Figure \\ref{fig:GenReflect}, that\n",
    "\n",
    "\\begin{equation*}\n",
    "  \\begin{bmatrix} a & b \\\\ c & d \\end{bmatrix}\\begin{bmatrix} \\cos(\\theta) \\\\ \\sin(\\theta) \\end{bmatrix} = \\begin{bmatrix} \\cos(\\theta) \\\\ \\sin(\\theta) \\end{bmatrix} \\and\n",
    "  \\begin{bmatrix} a & b \\\\ c & d \\end{bmatrix}\\begin{bmatrix} \\cos(\\theta+\\pi/2) \\\\ \\sin(\\theta+\\pi/2) \\end{bmatrix} = \\begin{bmatrix} \\cos(\\theta-\\pi/2) \\\\ \\sin(\\theta-\\pi/2) \\end{bmatrix}\n",
    "\\end{equation*}\n",
    "\n",
    "Show that these two conditions require that\n",
    "\n",
    "\\begin{equation}\\label{eq:Htheta}\n",
    "  H(\\theta) = \\begin{bmatrix} \\cos(2\\theta) & \\sin(2\\theta) \\\\ \\sin(2\\theta) & -\\cos(2\\theta) \\end{bmatrix}\n",
    "\\end{equation}\n",
    "\n",
    "Please confirm that $H^2(\\theta)=I$ and so every reflection is its own inverse.\n",
    "\\end{exercise}"
   ]
  },
  {
   "cell_type": "markdown",
   "metadata": {},
   "source": [
    "\\begin{exercise}\\label{ex:RefRot} There is an intimate connection between reflections and rotations. Please show that every rotation is the product of two reflections, i.e.,\n",
    "\n",
    "\\begin{equation}\\label{eq:RefRot}\n",
    "  K(\\theta) = H(\\theta/2)H(0)\n",
    "\\end{equation}\n",
    "\n",
    "More generally, please show that\n",
    "\n",
    "\\begin{equation}\\label{eq:RefRotT}\n",
    "  \\eqalign{\n",
    "    H(\\theta)H(\\phi) &= K(2\\theta-2\\phi) \\cr\n",
    "    K(\\theta)H(\\phi) &= H(\\phi + \\theta/2) \\cr\n",
    "    H(\\phi)K(\\theta) &= H(\\phi - \\theta/2) \\cr}\n",
    "\\end{equation}\n",
    "\n",
    "\\end{exercise}"
   ]
  },
  {
   "cell_type": "code",
   "execution_count": 2,
   "metadata": {
    "code_folding": []
   },
   "outputs": [
    {
     "data": {
      "image/png": "[encoded data removed]",
      "text/plain": [
       "<Figure size 640x480 with 1 Axes>"
      ]
     },
     "metadata": {},
     "output_type": "display_data"
    }
   ],
   "source": [
    "# equilateral triangle\n",
    "%matplotlib inline\n",
    "import numpy as np    \n",
    "import matplotlib.pyplot as plt \n",
    "\n",
    "a = np.pi/3\n",
    "\n",
    "plt.plot([0,2],[0,0],'b',linewidth=2)   # link 0\n",
    "plt.plot([1,1],[0,2*np.sin(a)],'k--')\n",
    "plt.text(1,1.8,'$H(\\pi/2)$', fontsize=12)\n",
    "\n",
    "plt.plot([2, 2*np.cos(a)],[0, 2*np.sin(a)],'b',linewidth=2)   # link 1\n",
    "plt.plot([0,1+np.cos(a)],[0,np.sin(a)],'k--')\n",
    "plt.text(1+np.cos(a)+0.1,np.sin(a),'$H(\\pi/6)$', fontsize=12)\n",
    "          \n",
    "plt.plot([2*np.cos(a),0],[2*np.sin(a),0],'b',linewidth=2)   # link 2\n",
    "plt.plot([2,1-np.cos(a)],[0,np.sin(a)],'k--')\n",
    "plt.text(1-np.cos(a)-0.5,np.sin(a),'$H(5\\pi/6)$', fontsize=12)\n",
    "plt.text(1.1,0.85,'$\\pi/3$',fontsize=12)\n",
    "\n",
    "plt.axis('equal')\n",
    "plt.axis('off');"
   ]
  },
  {
   "cell_type": "markdown",
   "metadata": {},
   "source": [
    "\\begin{myfig}\\label{fig:eqtri} An equilateral triangle with 3 (dashed) lines of symmetry labeled by their associated reflections. \\end{myfig}"
   ]
  },
  {
   "cell_type": "markdown",
   "metadata": {},
   "source": [
    "\\begin{exercise}\\label{ex:triangle} The symmetries of the equilateral triangle, per Figure \\ref{fig:eqtri}, are the six matrices\n",
    "\n",
    "\\begin{equation}\\label{eq:triSym}\n",
    "  I,\\ K(2\\pi/3),\\ K(4\\pi/3),\\ H(\\pi/6),\\ H(\\pi/2),\\ H(5\\pi/6)\n",
    "\\end{equation}\n",
    "\n",
    "Use the previous exercise to complete this remarkable multiplication table\n",
    "\n",
    "| $\\Delta$ | $I$ | $K(2\\pi/3)$ | $K(4\\pi/3)$ | $H(\\pi/6)$ | $H(\\pi/2)$ | $H(5\\pi/6)$ |\n",
    "| :-: | :-: | :-: | :-: | :-: | :-: | :-: |\n",
    "| $I$ | $I$ | $K(2\\pi/3)$ | $K(4\\pi/3)$ | $H(\\pi/6)$ | $H(\\pi/2)$ | $H(5\\pi/6)$ |\n",
    "| $K(2\\pi/3)$ | $K(2\\pi/3)$ | $K(4\\pi/3)$ | $I$ | $H(\\pi/2)$ | $H(5\\pi/6)$ | $H(\\pi/6)$ |\n",
    "| $K(4\\pi/3)$ | $K(4\\pi/3)$ | $I$ | || || || ||\n",
    "| $H(\\pi/6)$ | $H(\\pi/6)$ | $H(5\\pi/6)$ | || || || ||\n",
    "| $H(\\pi/2)$ | $H(\\pi/2)$ | $H(\\pi/6)$ | || || || ||\n",
    "| $H(5\\pi/6)$ | $H(5\\pi/6)$ | $H(\\pi/2)$ | || || || ||\n",
    "\n",
    "The entries correspond to the product of a matrix in the first column with a matrix in the first row, in that order.\n",
    "For example, $K(2\\pi/3)H(\\pi/6)=H(\\pi/2)$ while $H(\\pi/6)K(2\\pi/3)=H(5\\pi/6)$.\n",
    "\n",
    "\\end{exercise}\n",
    "\n",
    "This exercise gives us our first example of a matrix group. A collection matrices is called a matrix group when it has a multiplication table. More precisely, \n",
    "\n",
    "\\begin{definition}\\label{def:MG}\n",
    "A collection $G$ of 2-by-2 matrices is called a **matrix group** when\n",
    "\n",
    "(1) If $M\\in G$ then $M^{-1}\\in G$, and\n",
    "\n",
    "(2) If $M\\in G$ and $N\\in G$ then $MN\\in G$.\n",
    "\\end{definition}\n",
    "\n",
    "\\begin{exercise}\\label{ex:triSymG} Please confirm that the collection of matrices in (\\ref{eq:triSym}) is a matrix group. Show that $\\{I,H(\\pi/6)\\}$ is also a group. Show that $\\{I,K(2\\pi/3),K(4\\pi/3)\\}$ is a group.\n",
    "Is $\\{I,H(\\pi/6),H(\\pi/2)\\}$ a group?\n",
    "\\end{exercise}\n",
    "\n",
    "\\begin{exercise}\\label{ex:gps}\n",
    "Use Exercises \\ref{ex:ANK2} - \\ref{ex:ANK4} to show that \n",
    "\n",
    "(i) the collection of dilations, $\\{A(\\alpha):0<\\alpha<\\infty\\}$ is a group, \n",
    "\n",
    "(ii) the collection of shears, $\\{N(\\s):\\s\\in\\maR\\}$ is a group, and\n",
    "\n",
    "(iii) the collection of rotations, $\\{K(\\theta):0\\le \\theta<2\\pi\\}$ is a group. \n",
    "\\end{exercise}\n",
    "\n",
    "\\begin{exercise}\\label{ex:GL2} Let $\\GL_2(\\maR)$ denote the collection of real invertible 2-by-2 matrices. Please confirm that $\\GL_2(\\maR)$ is a matrix group. (Here GL stands for *general linear*).\n",
    "\\end{exercise}\n",
    "\n"
   ]
  },
  {
   "cell_type": "markdown",
   "metadata": {},
   "source": [
    "\\begin{exercise} \\label{ex:inv2by2} Please show that if $\\det(M)\\ne 0$ then\n",
    "\n",
    "\\begin{equation} \\label{eq:Minv}\n",
    "  M^{-1} = \\frac{1}{\\det(M)}\\begin{bmatrix} d & -b \\\\ -c & a \\end{bmatrix}\n",
    "\\end{equation}\n",
    "\n",
    "is the **inverse** of $M$ in the sense that $MM^{-1}=M^{-1}M=I$.\n",
    "\n",
    "\\end{exercise}"
   ]
  },
  {
   "cell_type": "markdown",
   "metadata": {},
   "source": [
    "\\begin{exercise} \\label{ex:MpMinv} Use (\\ref{eq:Minv}), assuming $\\det(M)\\ne 0$,  to achieve\n",
    "\n",
    "\\begin{equation} \\label{eq:MpMinv}\n",
    "  M + \\det(M) M^{-1} = (a+d)I\n",
    "\\end{equation}\n",
    "\n",
    "This sum, $a+d$, of the diagonal elements occurs so frequently that we give it a name. We call it the **trace** and abbreviate it by $\\tr$. To wit, $\\tr(M)=a+d$. Use this notion as you multiply (\\ref{eq:MpMinv}) by $M$ to achieve the\n",
    "quadratic equation\n",
    "\n",
    "\\begin{equation} \\label{eq:Mquad}\n",
    "  M^2 - \\tr(M)M + \\det(M) I = 0\n",
    "\\end{equation}\n",
    "\n",
    "Please explore the implications of this identity when $M$ is $A(\\alpha)$, $N(\\s)$, $K(\\theta)$, or $H(\\theta)$.\n",
    "\n",
    "\\end{exercise}"
   ]
  },
  {
   "cell_type": "markdown",
   "metadata": {},
   "source": [
    "\\begin{exercise} \\label{ex:eig2by2} That polynomial in (\\ref{eq:Mquad}) deserves a second look. We will see that the most powerful descriptors of a linear transformation are its eigenvalues and eigenvectors. We have seen that 2-by-2 matrices rotate and scale planar nonzero vectors. We call a nonzero $q\\in\\maR^2$ an **eigenvector** of $M\\in\\maR^{2\\times 2}$ when $M$ scales, *but does not rotate*, $q$. The scale factor we call the **eigenvalue** of $M$ associated with $q$. To see these objects please enter\n",
    "\n",
    "\\begin{equation*} \n",
    "  \\begin{bmatrix} 2 & -1 \\\\ -1 & 2 \\end{bmatrix}\n",
    "\\end{equation*}\n",
    "\n",
    "into our widget and confirm that vectors in the $[1,1]$ direction are merely scaled by 1, while vectors in the $[1,-1]$ directions are scaled by 3.\n",
    "\n",
    "(a) Use the widget to find the eigenvectors and eigenvalues of\n",
    "\n",
    "\\begin{equation} \\label{eq:mat4114} \n",
    "  \\begin{bmatrix} 4 & 1 \\\\ 1 & 4 \\end{bmatrix}\n",
    "\\end{equation}\n",
    "\n",
    "(b) With the right picture in mind let us develop an algebraic understanding of eigen-objects. To say that $q$ is an eigenvector of $M$ with eigenvalue $\\la$ is to say that $Mq$ is simply $\\la q$, i.e.,\n",
    "\n",
    "\\begin{equation} \\label{eq:eigeq0}\n",
    "  Mq = \\la q\n",
    "\\end{equation}\n",
    "\n",
    "This says that $M$ acts like a scalar, $\\la$, for vectors on the line through $q$. As there is a common $q$ on each side of (\\ref{eq:eigeq0}) it makes sense to collect terms and land at\n",
    "\n",
    "\\begin{equation} \\label{eq:eigeq1}\n",
    "  (M-\\la I)q = 0\n",
    "\\end{equation}\n",
    "\n",
    "This in turn states that $M-\\la I$ sends a nonzero vector to 0. As $M-\\la I$ also sends the zero vector to zero we see that $M-\\la I$ cannot be invertible. It then follows from (\\ref{eq:Minv}) that $\\det(M-\\la I)=0$. Unpack this equation and conclude that $\\la$ must be a solution of\n",
    "\n",
    "\\begin{equation} \\label{eq:Mquad2}\n",
    "  \\la^2 - \\tr(M)\\la + \\det(M) = 0\n",
    "\\end{equation}\n",
    "\n",
    "the **exact same polynomial** that we discovered in the previous exercise.\n",
    "\n",
    "(c) Confirm that the eigenvalues you computed by sight in part (a) indeed obey (\\ref{eq:Mquad2}).\n",
    "\\end{exercise}"
   ]
  },
  {
   "cell_type": "markdown",
   "metadata": {},
   "source": [
    "\\begin{exercise}\\label{ex:TriEig} Show that if $M$ is triangular, i.e.,\n",
    "\n",
    "\\begin{equation}\\label{eq:Mtri}\n",
    "   M = \\begin{bmatrix} a & b \\\\ 0 & d \\end{bmatrix},\n",
    "\\end{equation}\n",
    "\n",
    "then the two eigenvalues of $M$ are $a$ and $d$. Confirm that the eigenvector associated with $a$ is\n",
    "\n",
    "\\begin{equation}\\label{eq:eigtri1}\n",
    "   \\begin{bmatrix} 1 \\\\ 0 \\end{bmatrix}\n",
    "\\end{equation}\n",
    "\n",
    "Confirm that if $a=d$ then (\\ref{eq:eigtri1}) is the only eigenvector while if $a\\ne d$ then the eigenvector associated with $d$ is\n",
    "\n",
    "\\begin{equation}\\label{eq:eigtri2}\n",
    "   \\begin{bmatrix} b/(d-a) \\\\ 1 \\end{bmatrix}\n",
    "\\end{equation}\n",
    "\n",
    "\\end{exercise}\n"
   ]
  },
  {
   "cell_type": "markdown",
   "metadata": {},
   "source": [
    "\\begin{exercise}\\label{ex:predet} With respect to Figure \\ref{fig:square2diamond} show that\n",
    "\n",
    "\\begin{equation*}\n",
    "  M = \\begin{bmatrix} 2 & -1 \\\\ -1 & 2 \\end{bmatrix} \n",
    "\\end{equation*}\n",
    "\n",
    "takes the black square to the red diamond. Use $\\det(M)$ to compute the area of the red diamond and confirm that the orientation of the black square is preserved.\n",
    "\\end{exercise}"
   ]
  },
  {
   "cell_type": "code",
   "execution_count": 3,
   "metadata": {
    "code_folding": []
   },
   "outputs": [
    {
     "data": {
      "image/png": "[encoded data removed]",
      "text/plain": [
       "<Figure size 640x480 with 1 Axes>"
      ]
     },
     "metadata": {},
     "output_type": "display_data"
    }
   ],
   "source": [
    "# square to diamond\n",
    "import numpy as np\n",
    "import matplotlib.pyplot as plt\n",
    "\n",
    "plt.plot([0, 1, 1, 0, 0],[0, 0, 1, 1, 0],'k',linewidth=2)\n",
    "A = np.array([[2, -1],[-1, 2]])\n",
    "x = A@np.array([1,0])\n",
    "y = A@np.array([0,1])\n",
    "z = np.array([1,1])\n",
    "plt.plot([0, x[0]],[0, x[1]],'r',linewidth=2)\n",
    "plt.plot([0, y[0]],[0, y[1]],'r',linewidth=2)\n",
    "plt.plot([y[0], z[0]],[y[1], z[1]],'r',linewidth=2)\n",
    "plt.plot([x[0], z[0]],[x[1], z[1]],'r',linewidth=2)\n",
    "plt.axis('equal')\n",
    "plt.grid('on');"
   ]
  },
  {
   "cell_type": "markdown",
   "metadata": {},
   "source": [
    "\\begin{myfig}\\label{fig:square2diamond} Stretching a square. \\end{myfig}"
   ]
  },
  {
   "cell_type": "markdown",
   "metadata": {},
   "source": [
    "As the determinant and trace are such \"natural\" descriptors we explore how they behave when we compose, i.e., multiply, matrices. First, as the determinant of a matrix measures the degree to which it scales areas we may guess that the change in area following a composition is the product of their individual area changes. To check this guess we set\n",
    "\n",
    "\\begin{equation}\n",
    "  M = \\begin{bmatrix} a & b \\\\ c & d \\end{bmatrix} \\and N = \\begin{bmatrix} s & t \\\\ u & v \\end{bmatrix} \n",
    "\\end{equation}\n",
    "\n",
    "and compute their product\n",
    "\n",
    "\\begin{equation}\n",
    "  MN = \\begin{bmatrix} a & b \\\\ c & d \\end{bmatrix}\\begin{bmatrix} s & t \\\\ u & v \\end{bmatrix} =\n",
    "  \\begin{bmatrix} as+bu & at+bv \\\\ cs+du & ct+dv \\end{bmatrix}\n",
    "\\end{equation}\n",
    "\n",
    "and note that it's determinant\n",
    "\n",
    "\\begin{equation} \\label{eq:detprod}\n",
    "  \\det(MN) = (as+bu)(ct+dv) - (at+bv)(cs+du) = (ad-bc)(sv-tu) = \\det(M)\\det(N),\n",
    "\\end{equation}\n",
    "\n",
    "as we had guessed. This deserves a box,\n",
    "\n",
    "\\begin{equation} \\label{eq:detprodbox}\n",
    "  \\boxed{\\det(MN) = \\det(M)\\det(N)}\n",
    "\\end{equation}\n",
    "\n",
    "Do you see how this produces $\\det(M^{-1})=1/\\det(M)$?\n",
    "Regarding the behavior of the trace under composition \n",
    "we note although $A(\\alpha)N(\\s)\\ne N(\\s)A(\\alpha)$ we do observe that\n",
    "$\\tr(A(\\alpha)N(\\s))= \\tr(N(\\s)A(\\alpha))$. To see that this is no accident, \n",
    "we compute the *other* product\n",
    "\n",
    "\\begin{equation}\n",
    "  NM = \\begin{bmatrix} s & t \\\\ u & v \\end{bmatrix}\\begin{bmatrix} a & b \\\\ c & d \\end{bmatrix} =\n",
    "  \\begin{bmatrix} as+ct & sb+td \\\\ ua+vc & bu+dv \\end{bmatrix}\n",
    "\\end{equation}\n",
    "\n",
    "and note that summing the diagonal terms in $MN$ and $NM$ reveals\n",
    "\n",
    "\\begin{equation} \\label{eq:trprod}\n",
    "  \\boxed{\\tr(MN) = \\tr(NM)}\n",
    "\\end{equation}\n",
    "\n",
    "\\begin{exercise} Use (\\ref{eq:detprodbox}) and (\\ref{eq:trprod}) to conclude that wrapping a matrix by a second matrix and its inverse does not disturb its determinant nor its trace. That is, show that\n",
    "\n",
    "\\begin{equation}\n",
    "   \\det(NMN^{-1})=\\det(M) \\and \\tr(NMN^{-1})=\\tr(M)\n",
    "\\end{equation}\n",
    "\n",
    "\\end{exercise}\n",
    "\n",
    "\\begin{exercise}\\label{ex:SL2} Let $\\SL_2(\\maR)$ denote the collection of real 2-by-2 matrices with determinant 1. Use (\\ref{eq:detprodbox}) to confirm that $\\SL_2(\\maR)$ is a matrix group. (Here SL stands for *special linear*).\n",
    "\\end{exercise}"
   ]
  },
  {
   "cell_type": "markdown",
   "metadata": {},
   "source": [
    "Next Section: [1.4 Kinematics](1.4.Kinematics.ipynb)"
   ]
  }
 ],
 "metadata": {
  "author": "Linear Algebra, A Field Guide",
  "kernelspec": {
   "display_name": "Python 3 (ipykernel)",
   "language": "python",
   "name": "python3"
  },
  "language_info": {
   "codemirror_mode": {
    "name": "ipython",
    "version": 3
   },
   "file_extension": ".py",
   "mimetype": "text/x-python",
   "name": "python",
   "nbconvert_exporter": "python",
   "pygments_lexer": "ipython3",
   "version": "3.10.14"
  },
  "latex_envs": {
   "LaTeX_envs_menu_present": true,
   "autoclose": false,
   "autocomplete": false,
   "bibliofile": "biblio.bib",
   "cite_by": "apalike",
   "current_citInitial": 1,
   "eqLabelWithNumbers": true,
   "eqNumInitial": 1,
   "hotkeys": {
    "equation": "Ctrl-E",
    "itemize": "Ctrl-I"
   },
   "labels_anchors": false,
   "latex_user_defs": true,
   "report_style_numbering": false,
   "user_envs_cfg": true
  },
  "toc": {
   "base_numbering": "1.3",
   "nav_menu": {
    "height": "84.9833px",
    "width": "166.383px"
   },
   "number_sections": true,
   "sideBar": true,
   "skip_h1_title": false,
   "title_cell": "Orientation",
   "title_sidebar": "Contents",
   "toc_cell": false,
   "toc_position": {
    "height": "196px",
    "left": "10px",
    "top": "150px",
    "width": "257.867px"
   },
   "toc_section_display": true,
   "toc_window_display": false
  }
 },
 "nbformat": 4,
 "nbformat_minor": 4
}
