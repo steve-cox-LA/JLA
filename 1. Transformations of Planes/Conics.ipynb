{
 "cells": [
  {
   "cell_type": "markdown",
   "id": "27ff6e5c",
   "metadata": {},
   "source": [
    "# Conics\n",
    "\n",
    "Given two lines in $\\maR^3$ that intersect at one point we rotate one about the other to achieve a cone. We explore in Figure \\ref{fig:conicW} the intersection of a plane with such a cone. Their intersection is called a **conic section** and its projection onto a fixed plane, $(x,y)$ in our case, is called a conic.\n",
    "\n",
    "We see that, except for a few degenerate cases that conics are either parabolas, ellipses, or hyperbolas. The main result of this chapter is that invertible affine transformations of the plane preserve these distinctions.\n"
   ]
  },
  {
   "cell_type": "code",
   "execution_count": 1,
   "id": "ba6fe651",
   "metadata": {
    "code_folding": []
   },
   "outputs": [
    {
     "data": {
      "application/vnd.jupyter.widget-view+json": {
       "model_id": "095756345d344af29f5f70ddcc16c23e",
       "version_major": 2,
       "version_minor": 0
      },
      "text/plain": [
       "HBox(children=(Canvas(toolbar=Toolbar(toolitems=[('Home', 'Reset original view', 'home', 'home'), ('Back', 'Ba…"
      ]
     },
     "metadata": {},
     "output_type": "display_data"
    }
   ],
   "source": [
    "# conic widget\n",
    "\n",
    "%matplotlib widget\n",
    "import numpy as np\n",
    "import matplotlib.pyplot as plt\n",
    "from ipywidgets import *\n",
    "\n",
    "plt.ioff()\n",
    "\n",
    "fig = plt.figure(' ') # ,figsize=(6,6))\n",
    "ax = plt.axes(projection=\"3d\")    # set up for 3D work\n",
    "\n",
    "# build the cone, parametrized as (r*cos(t), r*sin(t), r)  and (r*cos(t), r*sin(t), -r)\n",
    "r = np.linspace(0,3,100)\n",
    "t = np.linspace(0,2*np.pi,100)\n",
    "R, T = np.meshgrid(r, t)   \n",
    "Zc = R\n",
    "Xc = R*np.cos(T)\n",
    "Yc = R*np.sin(T)\n",
    "ax.plot_surface(Xc, Yc, Zc, alpha = 0.5, color='r') \n",
    "ax.plot_surface(Xc, Yc, -Zc, alpha = 0.5, color='r') \n",
    "\n",
    "# plot the intersecting plane \n",
    "x = np.linspace(-3,3,100)\n",
    "y = np.linspace(-3,3,100)\n",
    "X, Y = np.meshgrid(x, y)\n",
    "m = 0\n",
    "Z = -np.ones(X.shape) + m*X  \n",
    "P  = ax.plot_surface(X, Y, Z, alpha = 0.25, color='b')\n",
    "\n",
    "# find their intersection\n",
    "nr = 1/(1+m*np.cos(t))  #  z = -r on cone, while z = mx - 1 on plane, so -r = m*r*cos(t) - 1 (solve for r)\n",
    "nr[abs(nr)>3] = np.nan  # only keep the parts which lie on the cone\n",
    "conic = ax.plot(nr*np.cos(t), nr*np.sin(t), -nr, 'k')\n",
    "pconic = ax.plot(nr*np.cos(t), nr*np.sin(t), np.zeros(t.shape), 'k--') # project onto (x,y) plane\n",
    "\n",
    "ax.set(xlim=(-3,3), ylim=(-3,3), zlim=(-3,3))\n",
    "ax.set_xlabel('x', fontsize=12)\n",
    "ax.set_ylabel('y', fontsize=12)\n",
    "ax.set_zlabel('z', fontsize=12)\n",
    "\n",
    "mS = widgets.FloatSlider(min=-3, max=3, step=0.1, value=0)   # let the user vary the slope, m\n",
    "\n",
    "def update(m = mS): \n",
    "    \n",
    "    ax.clear()   # going brute force as plot_surface (with P,) is not iterable\n",
    "    ax.plot_surface(Xc, Yc, Zc, alpha = 0.5, color='r') \n",
    "    ax.plot_surface(Xc, Yc, -Zc, alpha = 0.5, color='r') \n",
    "    Z = -np.ones(X.shape) + m*X  \n",
    "    #P.set_data_3d(X, Y, Z)\n",
    "    ax.plot_surface(X, Y, Z, alpha = 0.25, color='b')\n",
    "\n",
    "    nr = 1/(1+m*np.cos(t))\n",
    "    nr[abs(nr)>3] = np.nan\n",
    "    ax.plot(nr*np.cos(t), nr*np.sin(t), -nr, 'k')\n",
    "    ax.plot(nr*np.cos(t), nr*np.sin(t), np.zeros(t.shape), 'k--')\n",
    "    #conic.set_data_3d(nr*np.cos(t), nr*np.sin(t), -nr)\n",
    "    \n",
    "    ax.set(xlim=(-3,3), ylim=(-3,3), zlim=(-3,3))\n",
    "    ax.set_xlabel('x', fontsize=12)\n",
    "    ax.set_ylabel('y', fontsize=12)\n",
    "    ax.set_zlabel('z', fontsize=12)\n",
    "    fig.canvas.draw_idle()\n",
    "   \n",
    "\n",
    "widgets.interactive(update)\n",
    "layoutS = widgets.Layout(display='flex', flex_flow='column', justify_content='center')\n",
    "controls = widgets.VBox([mS], layout = layoutS)\n",
    "widgets.HBox([fig.canvas, controls])"
   ]
  },
  {
   "cell_type": "markdown",
   "id": "2cf80256",
   "metadata": {},
   "source": [
    "\\begin{myfig}\\label{fig:conicW} Where the blue plane intersects the red cone we find a black conic section. The projection of this curve onto the $(x,y)$ plane yields the dotted black curve. The blue plane is $z=mx-1$ with the slope $m$ chosen by the slider. The fixed red cone is the rotation of the line $z=x,y=0$ about the $z$-axis. \\end{myfig}\n",
    "\n",
    "In order to establish this we need to agree on definitions of the basic objects. We start in the plane without coordinates. We fix two points $F_1$ and $F_2$, enclose them in a loop of thread of length $L$, stretch the loop tight with a pencil at point $P$ and note that $\\|F_1-P\\|+\\|F_2-P\\|+\\|F_1-F_2\\|=L$. As $L$ and the two foci are fixed, we learn that\n",
    "\n",
    "\\begin{equation}\\label{eq:ellip}\n",
    "  \\|F_1-P\\|+\\|F_2-P\\| = \\hbox{constant}\n",
    "\\end{equation}\n",
    "\n",
    "and **define** an ellipse to be curve whose points obey (\\ref{eq:ellip}). On reversing the sign,\n",
    "\n",
    "\\begin{equation}\\label{eq:hyp}\n",
    "  \\|F_1-P\\|-\\|F_2-P\\| = \\hbox{constant}\n",
    "\\end{equation}\n",
    "\n",
    "we **define** a hyperbola to be curve whose points obey (\\ref{eq:hyp}). Back to the ellipse, we keep $F_1$ fixed, and we arrive at two familiar curves as we move $F_2$ to its extremes. In the easy case, as $F_2$ approaches $F_1$ we arrive at the circle, $\\|F_1-P\\|=\\hbox{constant}$. In the other extreme we let $F_2\\to\\infty$ along the line through the foci.\n",
    "\n",
    "\n"
   ]
  },
  {
   "cell_type": "code",
   "execution_count": null,
   "id": "bce7f0ea",
   "metadata": {},
   "outputs": [],
   "source": []
  }
 ],
 "metadata": {
  "kernelspec": {
   "display_name": "Python 3 (ipykernel)",
   "language": "python",
   "name": "python3"
  },
  "language_info": {
   "codemirror_mode": {
    "name": "ipython",
    "version": 3
   },
   "file_extension": ".py",
   "mimetype": "text/x-python",
   "name": "python",
   "nbconvert_exporter": "python",
   "pygments_lexer": "ipython3",
   "version": "3.10.14"
  },
  "latex_envs": {
   "LaTeX_envs_menu_present": true,
   "autoclose": false,
   "autocomplete": false,
   "bibliofile": "biblio.bib",
   "cite_by": "apalike",
   "current_citInitial": 1,
   "eqLabelWithNumbers": true,
   "eqNumInitial": 1,
   "hotkeys": {
    "equation": "Ctrl-E",
    "itemize": "Ctrl-I"
   },
   "labels_anchors": false,
   "latex_user_defs": true,
   "report_style_numbering": false,
   "user_envs_cfg": true
  },
  "toc": {
   "base_numbering": 1,
   "nav_menu": {},
   "number_sections": true,
   "sideBar": true,
   "skip_h1_title": false,
   "title_cell": "Table of Contents",
   "title_sidebar": "Contents",
   "toc_cell": false,
   "toc_position": {},
   "toc_section_display": true,
   "toc_window_display": false
  }
 },
 "nbformat": 4,
 "nbformat_minor": 5
}
