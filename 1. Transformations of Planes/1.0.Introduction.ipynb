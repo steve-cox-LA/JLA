{
 "cells": [
  {
   "cell_type": "markdown",
   "id": "b1abbb4b",
   "metadata": {},
   "source": [
    "**Transformations of Planes - Introduction**\n",
    "\n",
    "In the seven notebooks to follow we aim to equip the reader with the mathematical and computational tools to conceptually and visually explore the linear transformation of planar objects. The notebook format is incredibly well suited to such guided exploration, for both the LaTeX-like typesetting of logical mathematical expression and the python code for representing shapes and their transformations are revealed (or hidden) by a click of the mouse. We do not presume prior experience with LaTeX or python nor with Mathematics beyond the typical high school curriculum. We stress however that LaTeX and python are not mere techniques of presentation but are instead integral to our approach to learning mathematics.\n",
    "\n",
    "We strive to motivate each new idea with a visual illustration of a concrete case. Each illustration is followed by exercises that guide the reader into adapting the given code to a slight generalization of the provided concrete case. These examples are abstracted by definitions and we proceed to mathematically establish connections between, and consequences of, these definitions. These early proofs and confirmations serve as exemplars of both logic and typesetting, with Exercises immediately following that guide the reader to greater mathematical generality and greater confidence in organizing and expressing their mathematical thought.\n",
    "\n",
    "Regarding contents, our first three notebooks develop the key ideas around addition and multiplication of planar vectors and 2-by-2 matrices - with special focus on matrices that dilate, shear, reflect, or rotate. The reader explores their action on points, shapes, images (and one another) and shows that any 2-by-2 matrix that preserves orientation and area is a composition of dilations, shears, and rotations. The reader here encounters concrete visual instances of symmetry, inverses, determinants, traces, and eigenvectors.\n",
    "\n",
    "The remaining four notebooks develop the beautiful, and elementary, geometric side of subjects that authors, with few exceptions, attempt to present to students early in their mathematical training. The two exceptions that motivated our choices are [Geometry and the Imagination](https://en.wikipedia.org/wiki/Geometry_and_the_Imagination) by Hilbert and Cohn-Vossen, and [Indra's Pearls](https://en.wikipedia.org/wiki/Indra%27s_Pearls_(book)) by Mumford, Series, and Wright. Both texts use beauty and complexity to challenge the reader's conception of space. The former is a sweeping survey while the latter is more narrow and deeper. It is from the latter that we also gained our zeal for engaging the reader in the coding of every figure.\n",
    "\n",
    "Our notebook on Kinematics moves from the study of common planar robot arms to the uncommon Peaucellier–Lipkin linkage that transforms translations into rotations and foreshadows the inversion of circles in the complex plane and reflection across hyperbolic lines in the hyperbolic plane.\n",
    "\n",
    "As a preamble to complex and hyperbolic geometry we offer a notebook on the Projective Real line. This permits our first real change in perspective and our first real grappling with infinity. It is also the place where M&ouml;bius transformations appear most naturally and in their simplest dress. The reader learns to decompose real M&ouml;bius transformations into familiar dilations, shears, and rotations and to read their dynamics in their fixed points.\n",
    "\n",
    "Our notebook on the Complex Plane moves from lattices and integral M&ouml;bius transformations to complex M&ouml;bius transformations. The reader decomposes these into products of simpler transformations, including inversions and reflections, learns to tile the plane with reflections, and learns to read their complex dynamics in their complex fixed points.\n",
    "\n",
    "In our final notebook in this sequence we demonstrate how real M&ouml;bius transformations of a complex variable allow us to construct and study a geometry that while violating Euclid's parallel postulate nonetheless forms the basis for both the special theory of relativity and the modern theory of three dimensional objects. Those applications are developed in subsequent notebooks. Here we focus on the fundamentals of hyperbolic length and area and close with an explication of the Fundamental Domain for the group of integral M&ouml;bius transformations."
   ]
  }
 ],
 "metadata": {
  "kernelspec": {
   "display_name": "Python 3 (ipykernel)",
   "language": "python",
   "name": "python3"
  },
  "language_info": {
   "codemirror_mode": {
    "name": "ipython",
    "version": 3
   },
   "file_extension": ".py",
   "mimetype": "text/x-python",
   "name": "python",
   "nbconvert_exporter": "python",
   "pygments_lexer": "ipython3",
   "version": "3.9.13"
  },
  "latex_envs": {
   "LaTeX_envs_menu_present": true,
   "autoclose": false,
   "autocomplete": true,
   "bibliofile": "biblio.bib",
   "cite_by": "apalike",
   "current_citInitial": 1,
   "eqLabelWithNumbers": true,
   "eqNumInitial": 1,
   "hotkeys": {
    "equation": "Ctrl-E",
    "itemize": "Ctrl-I"
   },
   "labels_anchors": false,
   "latex_user_defs": false,
   "report_style_numbering": false,
   "user_envs_cfg": false
  },
  "toc": {
   "base_numbering": 1,
   "nav_menu": {},
   "number_sections": true,
   "sideBar": true,
   "skip_h1_title": false,
   "title_cell": "Table of Contents",
   "title_sidebar": "Contents",
   "toc_cell": false,
   "toc_position": {},
   "toc_section_display": true,
   "toc_window_display": false
  }
 },
 "nbformat": 4,
 "nbformat_minor": 5
}
