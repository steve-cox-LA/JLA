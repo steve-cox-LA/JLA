{
 "cells": [
  {
   "cell_type": "markdown",
   "id": "790945e8",
   "metadata": {},
   "source": [
    "# Introduction\n",
    "\n",
    "Derivatives are a huge source of matrices.\n",
    "We need? the operator norm to prove the contraction mapping principle, (CMP).\n",
    "CMP implies fixed points using completeness (worthy tangent).\n",
    "CMP implies the Inverse Function Theorem.\n",
    "Manifolds, Tangent Spaces, ...\n",
    "\n",
    "Follow Spivak, Tao, and Guillimen & Polak\n",
    "\n",
    "As preparation? we need a means of quantifying the distance between matrices. For $A\\in\\maR^{m\\times n}$ we define the norm of $A$ to be the largest stretch of a unit vector\n",
    "\n",
    "\\begin{equation}\\label{eq:matnorm}\n",
    "   \\|A\\| \\equiv \\max_{\\|x\\|=1}\\|Ax\\|\n",
    "\\end{equation}\n",
    "\n",
    "a few examples and easy exercises.\n"
   ]
  },
  {
   "cell_type": "markdown",
   "id": "dc226400",
   "metadata": {},
   "source": [
    "## The Contraction Mapping Principal\n",
    "\n",
    "Now suppose that $(X,d)$ is a complete metric space. We call $F:X\\to X$ a **contraction** when there exists a $c\\in[0,1)$ such that\n",
    "\n",
    "\\begin{equation}\\label{eq:contrac}\n",
    "  \\|F(x)-F(y)\\| \\le c\\|x-y\\| \\hskip 0.25in \\forall\\, x,y\\in X\n",
    "\\end{equation}\n",
    "\n",
    "\\begin{proposition}\\label{prop:CMP} A contraction on a complete metric space has a unique fixed point.\n",
    "\\end{proposition}\n",
    "\n",
    "**Proof:** From a random $x_0\\in X$ build $x_n = F(x_{n-1})$. Let us first show that these $x_n$ are getting closer and closer to one another. In particular, we show\n",
    "\n",
    "\\begin{equation}\\label{eq:contn}\n",
    "  \\|x_{n+1}-x_n\\| \\le c^n\\|x_1-x_0\\|\n",
    "\\end{equation}\n",
    "\n",
    "To secure this note it is trivially true when $n=0$. Now suppose it holds at level $n$ and consider\n",
    "\n",
    "\\begin{equation}\\label{eq:contnp1}\n",
    "  \\|x_{n+2}-x_{n+1}\\| = \\|F(x_{n+1})-F(x_n)\\| \\le c\\|x_{n+1}-x_n\\| \\le c^{n+1}\\|x_1-x_0\\|\n",
    "\\end{equation}\n",
    "\n",
    "and so (\\ref{eq:contn}) holds by the PoMI. From here the next step is to show that $\\{x_n\\}$ is Cauchy. Well, if $m>n$, then\n",
    "\n",
    "\\begin{equation}\\label{eq:contnC}\n",
    "  \\eqalign{ \\|x_m-x_n\\| &\\le \\|x_m-x_{m-1}\\| + \\|x_{m-1}-x_{m-2}\\|  + \\cdots + \\|x_{n+1}-x_n\\|  \\cr\n",
    "   &\\le (c^{m-1} + c^{m-2} + \\cdots + c^n)\\|x_1-x_0\\| \\cr\n",
    "   &= (c^{m-1-n} + c^{m-2-n} + \\cdots + 1)c^n\\|x_1-x_0\\| \\cr\n",
    "   &\\le \\frac{c^n\\|x_1-x_0\\| }{1-c} \\cr}\n",
    "\\end{equation}\n",
    "\n",
    "goes to zero as $n\\to\\infty$. As $\\{x_n\\}$ is cauchy and $X$ is complete we find $x^*\\in X$ and $x_n\\to x^*$. Now\n",
    "\n",
    "\\begin{equation}\\label{eq:contn*}\n",
    "  \\|F(x_n)-F(x^*)\\| \\le c\\|x_n-x^*\\|\n",
    "\\end{equation}\n",
    "\n",
    "so $F(x_n)\\to F(x^*)$, but also $F(x_n)=x_{n+1}$ goes to $x^*$ so by uniqueness of limits $F(x^*)=x^*$. By similar reasoning this fixed point is unique. **End of proof**\n",
    "\n",
    "We need a corollary that states that \n",
    "\n",
    "\\begin{proposition}\\label{prop:CMPc} Suppose that $F$ is a (1/2)contraction on $B(r)\\equiv\\{x\\in\\maR^n:\\|x\\|\\le r\\}$ and $F(0)=0$. Then $f=I+F$ is injective on $B(r)$ and $B(r/2)\\subset f(B(r))$.\n",
    "\\end{proposition}\n",
    "\n",
    "**Proof:** If $f(x)=f(y)$ then $x+F(x)=y+F(y)$, and so $\\|F(x)-F(y)\\|=\\|x-y\\|$ contrary to $F$ being a contraction. Now, for the inclusion, given $y\\in B(r/2)$ we must find an $x\\in B(r)$ such that $x+F(x)=y$ so define $G(x)=y-F(x)$ and note that a fixed point of $G$ brings $y-F(x^*)=x^*$, i.e., $y=x^*+F(x^*)$. Let's confirm that $G$ is a contraction on $B(r)$. First\n",
    "\n",
    "\\begin{equation*}\n",
    "\\|G(x)\\| = \\|y-F(x)\\| = \\|y-F(x)+F(0)\\|\\le \\|y\\|+\\|F(x)-F(0)\\| \\le r/2 + (1/2)\\|x\\| = r\n",
    "\\end{equation*}\n",
    "\n",
    "so $G$ takes $B(r)$ to $B(r)$.\n",
    "Furthermore, if $x$ and $z$ lie in $B(r)$ then\n",
    "\n",
    "\\begin{equation*}\n",
    "\\|G(x)-G(z)\\| = \\|y-F(x)-y+F(z)\\| = \\|F(x)-F(z)\\|\\le (1/2)\\|x-z\\|\n",
    "\\end{equation*}\n",
    "\n",
    "so $G$ is a contraction. **End of Proof**\n",
    "\n",
    "\n"
   ]
  },
  {
   "cell_type": "markdown",
   "id": "6f43e33f",
   "metadata": {},
   "source": [
    "## Jacobians and the Inverse Function Theorem"
   ]
  },
  {
   "cell_type": "markdown",
   "id": "bb84f4ed",
   "metadata": {},
   "source": [
    "## Manifolds and the Preimage Theorem"
   ]
  }
 ],
 "metadata": {
  "kernelspec": {
   "display_name": "Python 3",
   "language": "python",
   "name": "python3"
  },
  "language_info": {
   "codemirror_mode": {
    "name": "ipython",
    "version": 3
   },
   "file_extension": ".py",
   "mimetype": "text/x-python",
   "name": "python",
   "nbconvert_exporter": "python",
   "pygments_lexer": "ipython3",
   "version": "3.8.3"
  },
  "latex_envs": {
   "LaTeX_envs_menu_present": true,
   "autoclose": false,
   "autocomplete": false,
   "bibliofile": "",
   "cite_by": "apalike",
   "current_citInitial": 1,
   "eqLabelWithNumbers": true,
   "eqNumInitial": 1,
   "hotkeys": {
    "equation": "Ctrl-E",
    "itemize": "Ctrl-I"
   },
   "labels_anchors": false,
   "latex_user_defs": false,
   "report_style_numbering": true,
   "user_envs_cfg": true
  },
  "toc": {
   "base_numbering": 1,
   "nav_menu": {},
   "number_sections": true,
   "sideBar": true,
   "skip_h1_title": false,
   "title_cell": "Table of Contents",
   "title_sidebar": "Contents",
   "toc_cell": false,
   "toc_position": {},
   "toc_section_display": true,
   "toc_window_display": false
  }
 },
 "nbformat": 4,
 "nbformat_minor": 5
}
